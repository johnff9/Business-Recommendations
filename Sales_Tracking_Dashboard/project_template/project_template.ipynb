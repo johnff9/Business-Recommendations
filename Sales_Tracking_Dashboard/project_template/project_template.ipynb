{
 "cells": [
  {
   "cell_type": "markdown",
   "metadata": {},
   "source": [
    "# Project Template\n",
    "[Link to project template Word document] (https://scedu-my.sharepoint.com/:w:/r/personal/ashley_bissell_seattlecolleges_edu/Documents/Data%20Project%20Template.docx?d=w2d9bfd3297a3451d819b2a3b6fa8c5b7&csf=1&web=1&e=hmuEoP)"
   ]
  },
  {
   "cell_type": "markdown",
   "metadata": {},
   "source": [
    "## Business Objective: \n",
    "### The real-world problem this project will address.\n",
    " To understand customer trends with respect to location, product line, deal size, and status to maximize product sales for a wholesaler specializing in model vehicles."
   ]
  },
  {
   "cell_type": "markdown",
   "metadata": {},
   "source": [
    "## Expected Uses: \n",
    "### How does the team plan to use this dashboard? Weekly reviews of sales numbers?\n",
    "The company will use this information to focus business efforts on locations and products that have the highest sales. The company has regional sales teams that will be looking at the data daily and assessing sales data and team performance at weekly meetings for each territory."
   ]
  },
  {
   "cell_type": "markdown",
   "metadata": {},
   "source": [
    "## Reporting Requirements: \n",
    "### The metrics to include in the dashboard and questions that should be answered by the dashboard.\n",
    "Metrics to include in the dashboard are location by region, location by state or zip code, product line, deal size, status, price and quantity, customer name, order date, month, and year. Questions that should be answered include where sales are clustered geographically, what order size is most commonly sold, what period of the year sales are the highest and lowest in, and what product has the highest sales. Regional sales teams will assess performance within their territories, and as such regional sales team performance should be prioritized.\n"
   ]
  },
  {
   "cell_type": "markdown",
   "metadata": {},
   "source": [
    "## Data Requirements: \n",
    "### An outline of the data that is needed to provide the above value.\n",
    " A CSV database provided by the course instructor will be the source of data used for this project.  Data types required are listed below. \n",
    "\n",
    "Individual sales order information including:\n",
    "\n",
    "* Sale date (date, month, year) \n",
    "\n",
    "    * Order quantity by item \n",
    "\n",
    "    * Product type (category, unique identifier such as product line name) \n",
    "\n",
    "    * Product MSRP \n",
    "\n",
    "    * Product sale price \n",
    "\n",
    "    * Customer Identification (i.e. company name) \n",
    "\n",
    "    * Customer Location (territory, country, city) \n",
    "\n",
    "    * Order status \n",
    "\n",
    "* Calculated quantities including \n",
    "\n",
    "    * Sum of sales (by each type of sale information) \n",
    "\n",
    "    * Sum of orders (by each type of sale information) "
   ]
  },
  {
   "cell_type": "markdown",
   "metadata": {},
   "source": [
    "## Data Dictionary and Definitions: \n",
    "### A living document that give details on the data in the report.\n",
    "[Link to data dictionary excel spreadsheet] (https://scedu-my.sharepoint.com/:x:/r/personal/ashley_bissell_seattlecolleges_edu/Documents/data_dictionary_group_copy.xlsx?d=w76408320ea914d70ba8b4d1b31bc3f13&csf=1&web=1&e=nOphGw&nav=MTVfe0FDMjg1QUQwLTJFRDItNDBENC04MkNCLTdFQjNBRDYzMDdCMX0)\n",
    "\n",
    "![image](C:\\Users\\missa\\Repositories\\IBN330\\Project_1_Sales_Data\\Sales_Tracking_Dashboard\\project_template_md_files\\Data Dictionary Image v2.png)"
   ]
  },
  {
   "cell_type": "markdown",
   "metadata": {},
   "source": [
    "## Out of scope: \n",
    "### What you will not be addressing in this project.\n",
    "We will not be addressing additional data sources outside of the provided csv file, customer satisfaction, data cleaning or manipulation beyond that necessary to extract desired sales information, or time periods not represented in the data.  "
   ]
  }
 ],
 "metadata": {
  "kernelspec": {
   "display_name": "Python 3",
   "language": "python",
   "name": "python3"
  },
  "language_info": {
   "name": "python",
   "version": "3.10.5"
  }
 },
 "nbformat": 4,
 "nbformat_minor": 2
}
