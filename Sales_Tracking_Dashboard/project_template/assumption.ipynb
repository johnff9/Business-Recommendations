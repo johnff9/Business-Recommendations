{
 "cells": [
  {
   "cell_type": "markdown",
   "metadata": {},
   "source": [
    "# Assumptions   \n",
    "We made the following assumptions with our data:\n",
    "* Data is representative of all customer transactions for the time period spanning the data\n",
    "* The price of products did not change during the period spanning the data\n",
    "* The MSRP did not change during the period spanning the data\n",
    "* The product offerings were the same for the period spanning the data\n",
    "* Customer transaction records are accurate and complete\n"
   ]
  },
  {
   "cell_type": "code",
   "execution_count": null,
   "metadata": {},
   "outputs": [],
   "source": []
  }
 ],
 "metadata": {
  "language_info": {
   "name": "python"
  }
 },
 "nbformat": 4,
 "nbformat_minor": 2
}
