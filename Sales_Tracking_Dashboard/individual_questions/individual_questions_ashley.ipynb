{
 "cells": [
  {
   "cell_type": "code",
   "execution_count": null,
   "metadata": {},
   "outputs": [],
   "source": []
  },
  {
   "cell_type": "markdown",
   "metadata": {},
   "source": [
    "### Ashley\n",
    "#### What part(s) of the assignment did you contribute to? \n",
    "I created the project template, including the data dictionary. I logged our assumptions. I created a sales dashboard highlighting weekly sales based on region and with the ability to view both sales figures by week, as well as plots of weekly sales and running sales tally, filterable by dates and region.  I also created a story board, with graphical depictions of global sales by both country and city, as well as a sortable list of customers by city and sales amounts. I created a plot of sales versus price, separated by product line and showing an interesting insight.  I contributed to the project board and brainstorming for presentation outline and helping to coordinate team actions.\n",
    "\n",
    "#### What were the hardest parts of this assignment? \n",
    "The hardest part of this assignment was understanding the customer's desired output, the questions they wanted answered, and how to best deliver answers in a clear and concise way.\n",
    "\n",
    "#### Were there any challenges with your group this week? \n",
    "Our group struggled to put time in on the project early, but we worked together well especially on the last day of the project when everyone communicated and filled in where needed."
   ]
  }
 ],
 "metadata": {
  "language_info": {
   "name": "python"
  }
 },
 "nbformat": 4,
 "nbformat_minor": 2
}
